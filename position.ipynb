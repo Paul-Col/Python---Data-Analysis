{
 "cells": [
  {
   "cell_type": "code",
   "execution_count": 1,
   "id": "3720bc4a-876b-48e0-b982-aadfb19aee20",
   "metadata": {},
   "outputs": [],
   "source": [
    "import pandas as pd"
   ]
  },
  {
   "cell_type": "code",
   "execution_count": 5,
   "id": "8770b056-d821-48f8-9f52-941854b33392",
   "metadata": {},
   "outputs": [
    {
     "data": {
      "text/plain": [
       "0                     Elon Musk\n",
       "1                    Jeff Bezos\n",
       "2      Bernard Arnault & family\n",
       "3                    Bill Gates\n",
       "4                Warren Buffett\n",
       "                 ...           \n",
       "96             Vladimir Potanin\n",
       "97         Harold Hamm & family\n",
       "98                 Sun Piaoyang\n",
       "99           Luo Liguo & family\n",
       "100                   Peter Woo\n",
       "Name: Name, Length: 101, dtype: object"
      ]
     },
     "execution_count": 5,
     "metadata": {},
     "output_type": "execute_result"
    }
   ],
   "source": [
    "richest = pd.read_csv('TopRichestInWorld.csv', usecols=['Name', ]).squeeze()\n",
    "richest"
   ]
  },
  {
   "cell_type": "code",
   "execution_count": 13,
   "id": "5c07b540-f796-4421-872a-1f1cc77ea7cb",
   "metadata": {},
   "outputs": [
    {
     "data": {
      "text/plain": [
       "0                   Elon Musk\n",
       "1                  Jeff Bezos\n",
       "2    Bernard Arnault & family\n",
       "3                  Bill Gates\n",
       "4              Warren Buffett\n",
       "5                  Larry Page\n",
       "6                 Sergey Brin\n",
       "7               Larry Ellison\n",
       "8               Steve Ballmer\n",
       "9               Mukesh Ambani\n",
       "Name: Name, dtype: object"
      ]
     },
     "execution_count": 13,
     "metadata": {},
     "output_type": "execute_result"
    }
   ],
   "source": [
    "richest.head(10)"
   ]
  },
  {
   "cell_type": "code",
   "execution_count": 15,
   "id": "d966b024-91ca-45e3-930c-6b2d21641448",
   "metadata": {},
   "outputs": [
    {
     "data": {
      "text/plain": [
       "'Elon Musk'"
      ]
     },
     "execution_count": 15,
     "metadata": {},
     "output_type": "execute_result"
    }
   ],
   "source": [
    "richest[0]"
   ]
  },
  {
   "cell_type": "code",
   "execution_count": 23,
   "id": "177c475e-2cc3-4e72-9197-b6af431de6ec",
   "metadata": {},
   "outputs": [
    {
     "data": {
      "text/plain": [
       "1                   Jeff Bezos\n",
       "2     Bernard Arnault & family\n",
       "15                  Jim Walton\n",
       "Name: Name, dtype: object"
      ]
     },
     "execution_count": 23,
     "metadata": {},
     "output_type": "execute_result"
    }
   ],
   "source": [
    "richest[[1,2,15]]"
   ]
  },
  {
   "cell_type": "code",
   "execution_count": 25,
   "id": "fda27fc8-a6d8-4964-8aa7-2e7bfc732db0",
   "metadata": {},
   "outputs": [
    {
     "data": {
      "text/plain": [
       "5       Larry Page\n",
       "6      Sergey Brin\n",
       "7    Larry Ellison\n",
       "8    Steve Ballmer\n",
       "9    Mukesh Ambani\n",
       "Name: Name, dtype: object"
      ]
     },
     "execution_count": 25,
     "metadata": {},
     "output_type": "execute_result"
    }
   ],
   "source": [
    "richest[5:10]"
   ]
  },
  {
   "cell_type": "code",
   "execution_count": 27,
   "id": "de5a5e4e-6fd0-4069-9854-b4dbb23aadb2",
   "metadata": {},
   "outputs": [
    {
     "data": {
      "text/plain": [
       "0                 Elon Musk\n",
       "5                Larry Page\n",
       "10    Gautam Adani & family\n",
       "15               Jim Walton\n",
       "20             Charles Koch\n",
       "Name: Name, dtype: object"
      ]
     },
     "execution_count": 27,
     "metadata": {},
     "output_type": "execute_result"
    }
   ],
   "source": [
    "richest[0:21:5]"
   ]
  },
  {
   "cell_type": "code",
   "execution_count": 36,
   "id": "1d09fb68-7648-4b51-bf98-ddfba543a777",
   "metadata": {},
   "outputs": [
    {
     "data": {
      "text/plain": [
       "RangeIndex(start=0, stop=101, step=1)"
      ]
     },
     "execution_count": 36,
     "metadata": {},
     "output_type": "execute_result"
    }
   ],
   "source": [
    "richest.index"
   ]
  },
  {
   "cell_type": "code",
   "execution_count": null,
   "id": "e5303632-f04a-4801-96b0-9fb88633d75e",
   "metadata": {},
   "outputs": [],
   "source": []
  }
 ],
 "metadata": {
  "kernelspec": {
   "display_name": "Python 3 (ipykernel)",
   "language": "python",
   "name": "python3"
  },
  "language_info": {
   "codemirror_mode": {
    "name": "ipython",
    "version": 3
   },
   "file_extension": ".py",
   "mimetype": "text/x-python",
   "name": "python",
   "nbconvert_exporter": "python",
   "pygments_lexer": "ipython3",
   "version": "3.12.4"
  }
 },
 "nbformat": 4,
 "nbformat_minor": 5
}
