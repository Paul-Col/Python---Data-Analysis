{
 "cells": [
  {
   "cell_type": "code",
   "execution_count": 1,
   "id": "ede3cb2f-2470-49db-bbb9-a2734d2341d1",
   "metadata": {},
   "outputs": [],
   "source": [
    "import pandas as pd"
   ]
  },
  {
   "cell_type": "code",
   "execution_count": 21,
   "id": "05eaca1c-8e92-4323-b701-f1954937b7c9",
   "metadata": {},
   "outputs": [
    {
     "data": {
      "text/plain": [
       "Timestamp (UTC)\n",
       "2024-10-14T12:30:00Z    0.76\n",
       "2024-10-14T12:45:00Z    0.76\n",
       "2024-10-14T13:00:00Z    0.76\n",
       "2024-10-14T13:15:00Z    0.76\n",
       "2024-10-14T13:30:00Z    0.76\n",
       "                        ... \n",
       "2024-10-19T11:00:00Z    1.22\n",
       "2024-10-19T11:15:00Z    1.22\n",
       "2024-10-19T11:30:00Z    1.22\n",
       "2024-10-19T11:45:00Z    1.22\n",
       "2024-10-19T12:00:00Z    1.22\n",
       "Name: Height (m), Length: 479, dtype: float64"
      ]
     },
     "execution_count": 21,
     "metadata": {},
     "output_type": "execute_result"
    }
   ],
   "source": [
    "derwent = pd.read_excel('Water_levels.xlsx',\n",
    "                       usecols=['Timestamp (UTC)','Height (m)'],\n",
    "                      index_col='Timestamp (UTC)').squeeze()\n",
    "\n",
    "derwent"
   ]
  },
  {
   "cell_type": "code",
   "execution_count": 23,
   "id": "bf2b2251-0232-4844-9e67-729554c93129",
   "metadata": {},
   "outputs": [
    {
     "data": {
      "text/plain": [
       "1.22"
      ]
     },
     "execution_count": 23,
     "metadata": {},
     "output_type": "execute_result"
    }
   ],
   "source": [
    "high = derwent.idxmax()\n",
    "derwent[high]"
   ]
  },
  {
   "cell_type": "code",
   "execution_count": 25,
   "id": "4ddf2679-3460-455e-ac34-a15dc986b7d8",
   "metadata": {},
   "outputs": [
    {
     "data": {
      "text/plain": [
       "0.76"
      ]
     },
     "execution_count": 25,
     "metadata": {},
     "output_type": "execute_result"
    }
   ],
   "source": [
    "low = derwent.idxmin()\n",
    "derwent[low]"
   ]
  },
  {
   "cell_type": "code",
   "execution_count": null,
   "id": "c7506cff-1fc0-4ad0-b3b8-7a1ae10f85c1",
   "metadata": {},
   "outputs": [],
   "source": []
  }
 ],
 "metadata": {
  "kernelspec": {
   "display_name": "Python 3 (ipykernel)",
   "language": "python",
   "name": "python3"
  },
  "language_info": {
   "codemirror_mode": {
    "name": "ipython",
    "version": 3
   },
   "file_extension": ".py",
   "mimetype": "text/x-python",
   "name": "python",
   "nbconvert_exporter": "python",
   "pygments_lexer": "ipython3",
   "version": "3.12.4"
  }
 },
 "nbformat": 4,
 "nbformat_minor": 5
}
