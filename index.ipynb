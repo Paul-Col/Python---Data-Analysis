{
 "cells": [
  {
   "cell_type": "code",
   "execution_count": 2,
   "id": "07e97857-752f-4ec2-8f0c-615250b4ed1c",
   "metadata": {},
   "outputs": [],
   "source": [
    "import pandas as pd"
   ]
  },
  {
   "cell_type": "code",
   "execution_count": 8,
   "id": "99c305d2-5273-4a79-87c0-e8bb05388c45",
   "metadata": {},
   "outputs": [
    {
     "data": {
      "text/plain": [
       "Name\n",
       "Elon Musk                   $219,000,000,000\n",
       "Jeff Bezos                  $171,000,000,000\n",
       "Bernard Arnault & family    $158,000,000,000\n",
       "Bill Gates                  $129,000,000,000\n",
       "Warren Buffett              $118,000,000,000\n",
       "                                  ...       \n",
       "Vladimir Potanin             $17,300,000,000\n",
       "Harold Hamm & family         $17,200,000,000\n",
       "Sun Piaoyang                 $17,100,000,000\n",
       "Luo Liguo & family           $17,000,000,000\n",
       "Peter Woo                    $17,000,000,000\n",
       "Name: NetWorth, Length: 101, dtype: object"
      ]
     },
     "execution_count": 8,
     "metadata": {},
     "output_type": "execute_result"
    }
   ],
   "source": [
    "richest = pd.read_csv('TopRichestInWorld.csv', \n",
    "                      usecols=['Name', 'NetWorth'],\n",
    "                     index_col='Name').squeeze()\n",
    "richest"
   ]
  },
  {
   "cell_type": "code",
   "execution_count": 10,
   "id": "09a87caf-6bc0-4e95-8ef0-f641b3d4f64a",
   "metadata": {},
   "outputs": [
    {
     "name": "stderr",
     "output_type": "stream",
     "text": [
      "C:\\Users\\Paul\\AppData\\Local\\Temp\\ipykernel_22876\\3734245380.py:1: FutureWarning: Series.__getitem__ treating keys as positions is deprecated. In a future version, integer keys will always be treated as labels (consistent with DataFrame behavior). To access a value by position, use `ser.iloc[pos]`\n",
      "  richest[0]\n"
     ]
    },
    {
     "data": {
      "text/plain": [
       "'$219,000,000,000'"
      ]
     },
     "execution_count": 10,
     "metadata": {},
     "output_type": "execute_result"
    }
   ],
   "source": [
    "richest[0]"
   ]
  },
  {
   "cell_type": "code",
   "execution_count": 16,
   "id": "6580c629-a2a5-4cd7-aa37-a4f01d18d6a8",
   "metadata": {},
   "outputs": [
    {
     "data": {
      "text/plain": [
       "Name\n",
       "Elon Musk                   $219,000,000,000\n",
       "Jeff Bezos                  $171,000,000,000\n",
       "Bernard Arnault & family    $158,000,000,000\n",
       "Bill Gates                  $129,000,000,000\n",
       "Warren Buffett              $118,000,000,000\n",
       "Name: NetWorth, dtype: object"
      ]
     },
     "execution_count": 16,
     "metadata": {},
     "output_type": "execute_result"
    }
   ],
   "source": [
    "richest.head()"
   ]
  },
  {
   "cell_type": "code",
   "execution_count": 18,
   "id": "2a707550-a1e8-4796-9b14-89a86cf31ffe",
   "metadata": {},
   "outputs": [
    {
     "data": {
      "text/plain": [
       "'$129,000,000,000'"
      ]
     },
     "execution_count": 18,
     "metadata": {},
     "output_type": "execute_result"
    }
   ],
   "source": [
    "richest['Bill Gates']"
   ]
  },
  {
   "cell_type": "code",
   "execution_count": 38,
   "id": "3645ebef-2702-4831-80ae-a1b2f32e6c80",
   "metadata": {},
   "outputs": [
    {
     "data": {
      "text/plain": [
       "Name\n",
       "Bill Gates        $129,000,000,000\n",
       "Warren Buffett    $118,000,000,000\n",
       "Name: NetWorth, dtype: object"
      ]
     },
     "execution_count": 38,
     "metadata": {},
     "output_type": "execute_result"
    }
   ],
   "source": [
    "richest[['Bill Gates', 'Warren Buffett']]"
   ]
  },
  {
   "cell_type": "code",
   "execution_count": 32,
   "id": "42f780dc-220d-47e3-a1ac-d3e4109392d1",
   "metadata": {},
   "outputs": [
    {
     "data": {
      "text/plain": [
       "Name\n",
       "Elon Musk     $219,000,000,000\n",
       "Jeff Bezos    $171,000,000,000\n",
       "Name: NetWorth, dtype: object"
      ]
     },
     "execution_count": 32,
     "metadata": {},
     "output_type": "execute_result"
    }
   ],
   "source": [
    "richest[0:2]"
   ]
  },
  {
   "cell_type": "code",
   "execution_count": 34,
   "id": "f32ffafc-1f97-4e73-b88a-a4e8c7b496e0",
   "metadata": {},
   "outputs": [
    {
     "data": {
      "text/plain": [
       "Index(['Elon Musk', 'Jeff Bezos', 'Bernard Arnault & family', 'Bill Gates',\n",
       "       'Warren Buffett', 'Larry Page', 'Sergey Brin', 'Larry Ellison',\n",
       "       'Steve Ballmer', 'Mukesh Ambani',\n",
       "       ...\n",
       "       'Savitri Jindal & family', 'Wang Wenyin', 'Li Xiting', 'Stefan Persson',\n",
       "       'Steve Cohen', 'Vladimir Potanin', 'Harold Hamm & family',\n",
       "       'Sun Piaoyang', 'Luo Liguo & family', 'Peter Woo'],\n",
       "      dtype='object', name='Name', length=101)"
      ]
     },
     "execution_count": 34,
     "metadata": {},
     "output_type": "execute_result"
    }
   ],
   "source": [
    "richest.index"
   ]
  },
  {
   "cell_type": "code",
   "execution_count": null,
   "id": "6cd746e3-6b6c-4d6b-91ab-c980b0aa56a3",
   "metadata": {},
   "outputs": [],
   "source": []
  }
 ],
 "metadata": {
  "kernelspec": {
   "display_name": "Python 3 (ipykernel)",
   "language": "python",
   "name": "python3"
  },
  "language_info": {
   "codemirror_mode": {
    "name": "ipython",
    "version": 3
   },
   "file_extension": ".py",
   "mimetype": "text/x-python",
   "name": "python",
   "nbconvert_exporter": "python",
   "pygments_lexer": "ipython3",
   "version": "3.12.4"
  }
 },
 "nbformat": 4,
 "nbformat_minor": 5
}
