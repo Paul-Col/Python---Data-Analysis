{
 "cells": [
  {
   "cell_type": "code",
   "execution_count": 1,
   "id": "75188f4e-e55f-4c0a-96eb-d0ee201697a9",
   "metadata": {},
   "outputs": [],
   "source": [
    "import pandas as pd"
   ]
  },
  {
   "cell_type": "code",
   "execution_count": 13,
   "id": "d6e8666a-97f1-4027-acec-bbd4ae29b55f",
   "metadata": {},
   "outputs": [
    {
     "data": {
      "text/plain": [
       "Timestamp('2021-12-01 00:00:00')"
      ]
     },
     "execution_count": 13,
     "metadata": {},
     "output_type": "execute_result"
    }
   ],
   "source": [
    "#timestamps a single instance of time\n",
    "pd.Timestamp('2021-12-01')"
   ]
  },
  {
   "cell_type": "code",
   "execution_count": 15,
   "id": "5d109d87-079a-4783-9bbf-9d8bc02446e9",
   "metadata": {},
   "outputs": [],
   "source": [
    "#function to format dtae\n",
    "def display_timestamp(input_text:str):\n",
    "    print(pd.Timestamp(input_text))"
   ]
  },
  {
   "cell_type": "code",
   "execution_count": 19,
   "id": "4c73acef-85e4-4421-b9ba-0ba7f88e8918",
   "metadata": {},
   "outputs": [
    {
     "name": "stdout",
     "output_type": "stream",
     "text": [
      "2021-12-01 00:00:00\n",
      "2021-12-01 00:00:00\n",
      "2021-12-01 00:00:00\n",
      "2021-12-01 00:00:00\n"
     ]
    }
   ],
   "source": [
    "#call function with different date formats\n",
    "display_timestamp('2021-12-01')\n",
    "display_timestamp('2021.12.01')\n",
    "display_timestamp('2021/12/01')\n",
    "display_timestamp('2021 Dec 01')"
   ]
  },
  {
   "cell_type": "code",
   "execution_count": 21,
   "id": "2e359bd0-1ac0-4a96-a587-808a8646e2e4",
   "metadata": {},
   "outputs": [
    {
     "data": {
      "text/plain": [
       "Timestamp('2021-12-05 10:10:10')"
      ]
     },
     "execution_count": 21,
     "metadata": {},
     "output_type": "execute_result"
    }
   ],
   "source": [
    "pd.Timestamp(2021,12,5,10,10,10)"
   ]
  },
  {
   "cell_type": "code",
   "execution_count": 23,
   "id": "2371f86e-ad45-46ca-b3cd-940528511b90",
   "metadata": {},
   "outputs": [
    {
     "data": {
      "text/plain": [
       "DatetimeIndex(['2021-12-01', '2021-12-02'], dtype='datetime64[ns]', freq=None)"
      ]
     },
     "execution_count": 23,
     "metadata": {},
     "output_type": "execute_result"
    }
   ],
   "source": [
    "#to_datetime() is more flexible and can convert to lists,converts to datetime index\n",
    "pd.to_datetime(['2021.12.01', '2021.12.02'])"
   ]
  },
  {
   "cell_type": "code",
   "execution_count": 25,
   "id": "1d6f322f-8242-44d2-98dd-d045f10020bb",
   "metadata": {},
   "outputs": [
    {
     "data": {
      "text/plain": [
       "DatetimeIndex(['2023-01-01', '2023-01-02', '2023-01-03', '2023-01-04',\n",
       "               '2023-01-05', '2023-01-06', '2023-01-07', '2023-01-08',\n",
       "               '2023-01-09', '2023-01-10',\n",
       "               ...\n",
       "               '2023-12-22', '2023-12-23', '2023-12-24', '2023-12-25',\n",
       "               '2023-12-26', '2023-12-27', '2023-12-28', '2023-12-29',\n",
       "               '2023-12-30', '2023-12-31'],\n",
       "              dtype='datetime64[ns]', length=365, freq='D')"
      ]
     },
     "execution_count": 25,
     "metadata": {},
     "output_type": "execute_result"
    }
   ],
   "source": [
    "#date_range() used to create a daeTimeIndex\n",
    "pd.date_range(start='2023-01-01', end='2023-12-31')"
   ]
  },
  {
   "cell_type": "code",
   "execution_count": 31,
   "id": "e1d5c4b7-047d-41ba-90bd-ddf2b717668a",
   "metadata": {},
   "outputs": [
    {
     "data": {
      "text/plain": [
       "DatetimeIndex(['2023-01-31', '2023-02-28', '2023-03-31', '2023-04-30',\n",
       "               '2023-05-31', '2023-06-30', '2023-07-31', '2023-08-31',\n",
       "               '2023-09-30', '2023-10-31', '2023-11-30', '2023-12-31'],\n",
       "              dtype='datetime64[ns]', freq='ME')"
      ]
     },
     "execution_count": 31,
     "metadata": {},
     "output_type": "execute_result"
    }
   ],
   "source": [
    "#frequency monthly, month end\n",
    "pd.date_range(start='2023-01-01', end='2023-12-31', freq='ME')"
   ]
  },
  {
   "cell_type": "code",
   "execution_count": 29,
   "id": "ad6b025e-3fde-4ef8-bced-b881904d9b7c",
   "metadata": {},
   "outputs": [
    {
     "data": {
      "text/plain": [
       "DatetimeIndex(['2023-01-01', '2023-02-01', '2023-03-01', '2023-04-01',\n",
       "               '2023-05-01', '2023-06-01', '2023-07-01', '2023-08-01',\n",
       "               '2023-09-01', '2023-10-01', '2023-11-01', '2023-12-01'],\n",
       "              dtype='datetime64[ns]', freq='MS')"
      ]
     },
     "execution_count": 29,
     "metadata": {},
     "output_type": "execute_result"
    }
   ],
   "source": [
    "#frequency monthly, month start\n",
    "pd.date_range(start='2023-01-01', end='2023-12-31', freq='MS')"
   ]
  },
  {
   "cell_type": "code",
   "execution_count": 33,
   "id": "82a395b3-55b9-415f-90e9-f160580f355b",
   "metadata": {},
   "outputs": [
    {
     "data": {
      "text/plain": [
       "DatetimeIndex([          '2023-01-01 00:00:00',\n",
       "               '2023-02-03 02:10:54.545454545',\n",
       "               '2023-03-08 04:21:49.090909091',\n",
       "               '2023-04-10 06:32:43.636363636',\n",
       "               '2023-05-13 08:43:38.181818182',\n",
       "               '2023-06-15 10:54:32.727272728',\n",
       "               '2023-07-18 13:05:27.272727272',\n",
       "               '2023-08-20 15:16:21.818181820',\n",
       "               '2023-09-22 17:27:16.363636364',\n",
       "               '2023-10-25 19:38:10.909090908',\n",
       "               '2023-11-27 21:49:05.454545456',\n",
       "                         '2023-12-31 00:00:00'],\n",
       "              dtype='datetime64[ns]', freq=None)"
      ]
     },
     "execution_count": 33,
     "metadata": {},
     "output_type": "execute_result"
    }
   ],
   "source": [
    "#split into periods\n",
    "pd.date_range(start='2023-01-01', end='2023-12-31', periods=12)"
   ]
  },
  {
   "cell_type": "code",
   "execution_count": 37,
   "id": "b4ab9182-6401-4dbf-aff7-b12e4dd8fa79",
   "metadata": {},
   "outputs": [
    {
     "data": {
      "text/plain": [
       "Timedelta('0 days 00:02:00')"
      ]
     },
     "execution_count": 37,
     "metadata": {},
     "output_type": "execute_result"
    }
   ],
   "source": [
    "#timedelta, time between two timestamps\n",
    "start = pd.Timestamp('2021.01.01 00:00')\n",
    "end = pd.Timestamp('2021.01.01 00:02')\n",
    "\n",
    "#calculate diffeernce\n",
    "elapsed = end - start\n",
    "elapsed"
   ]
  },
  {
   "cell_type": "code",
   "execution_count": 39,
   "id": "bbb72b75-44aa-40f5-bc49-869f21d2a4fd",
   "metadata": {},
   "outputs": [],
   "source": [
    "#function to put strings to_timedelta()\n",
    "def disp_time(input_text: str):\n",
    "    print(pd.to_timedelta(input_text))"
   ]
  },
  {
   "cell_type": "code",
   "execution_count": 47,
   "id": "99cc8ad8-8349-4c5c-8e8f-c26112420500",
   "metadata": {},
   "outputs": [
    {
     "name": "stdout",
     "output_type": "stream",
     "text": [
      "1 days 02:00:20\n",
      "2 days 00:00:00\n",
      "2 days 04:30:20\n",
      "1 days 02:30:20\n",
      "8 days 00:00:00\n",
      "TimedeltaIndex(['1 days 02:00:20', '2 days 00:00:00', '0 days 01:00:30'], dtype='timedelta64[ns]', freq=None)\n"
     ]
    }
   ],
   "source": [
    "#samples to send to above function\n",
    "disp_time('1d 2h 20s')\n",
    "disp_time('2 days')\n",
    "disp_time('2 days 4 hours 30 minutes 20 seconds')\n",
    "disp_time('1d 2h 30m 20s')\n",
    "disp_time('1W 1D')\n",
    "disp_time(['1d 2h 20s', '2 days', '1 hours 30 seconds'])"
   ]
  },
  {
   "cell_type": "code",
   "execution_count": 49,
   "id": "ebf24f77-b8f0-4e0b-b8dc-676884605158",
   "metadata": {},
   "outputs": [
    {
     "data": {
      "text/plain": [
       "DatetimeIndex(['2023-01-01', '2023-01-02', '2023-01-03', '2023-01-04',\n",
       "               '2023-01-05', '2023-01-06', '2023-01-07'],\n",
       "              dtype='datetime64[ns]', freq='D')"
      ]
     },
     "execution_count": 49,
     "metadata": {},
     "output_type": "execute_result"
    }
   ],
   "source": [
    "#.dt allows access to datetime objects in series or dataframes\n",
    "week = pd.date_range(start='2023.01.01', end='2023.01.07')\n",
    "week"
   ]
  },
  {
   "cell_type": "code",
   "execution_count": 51,
   "id": "dc005328-d725-4ea9-ad4a-31c48457ce9a",
   "metadata": {},
   "outputs": [
    {
     "data": {
      "text/html": [
       "<div>\n",
       "<style scoped>\n",
       "    .dataframe tbody tr th:only-of-type {\n",
       "        vertical-align: middle;\n",
       "    }\n",
       "\n",
       "    .dataframe tbody tr th {\n",
       "        vertical-align: top;\n",
       "    }\n",
       "\n",
       "    .dataframe thead th {\n",
       "        text-align: right;\n",
       "    }\n",
       "</style>\n",
       "<table border=\"1\" class=\"dataframe\">\n",
       "  <thead>\n",
       "    <tr style=\"text-align: right;\">\n",
       "      <th></th>\n",
       "      <th>Dates</th>\n",
       "    </tr>\n",
       "  </thead>\n",
       "  <tbody>\n",
       "    <tr>\n",
       "      <th>0</th>\n",
       "      <td>2023-01-01</td>\n",
       "    </tr>\n",
       "    <tr>\n",
       "      <th>1</th>\n",
       "      <td>2023-01-02</td>\n",
       "    </tr>\n",
       "    <tr>\n",
       "      <th>2</th>\n",
       "      <td>2023-01-03</td>\n",
       "    </tr>\n",
       "    <tr>\n",
       "      <th>3</th>\n",
       "      <td>2023-01-04</td>\n",
       "    </tr>\n",
       "    <tr>\n",
       "      <th>4</th>\n",
       "      <td>2023-01-05</td>\n",
       "    </tr>\n",
       "    <tr>\n",
       "      <th>5</th>\n",
       "      <td>2023-01-06</td>\n",
       "    </tr>\n",
       "    <tr>\n",
       "      <th>6</th>\n",
       "      <td>2023-01-07</td>\n",
       "    </tr>\n",
       "  </tbody>\n",
       "</table>\n",
       "</div>"
      ],
      "text/plain": [
       "       Dates\n",
       "0 2023-01-01\n",
       "1 2023-01-02\n",
       "2 2023-01-03\n",
       "3 2023-01-04\n",
       "4 2023-01-05\n",
       "5 2023-01-06\n",
       "6 2023-01-07"
      ]
     },
     "execution_count": 51,
     "metadata": {},
     "output_type": "execute_result"
    }
   ],
   "source": [
    "#creates a series with datetime objects\n",
    "week_df = pd.Series(week).to_frame(name='Dates')\n",
    "week_df"
   ]
  },
  {
   "cell_type": "code",
   "execution_count": 53,
   "id": "b64596d4-ba73-42dd-ab4f-62489c12af1a",
   "metadata": {},
   "outputs": [
    {
     "name": "stdout",
     "output_type": "stream",
     "text": [
      "<class 'pandas.core.frame.DataFrame'>\n",
      "RangeIndex: 7 entries, 0 to 6\n",
      "Data columns (total 1 columns):\n",
      " #   Column  Non-Null Count  Dtype         \n",
      "---  ------  --------------  -----         \n",
      " 0   Dates   7 non-null      datetime64[ns]\n",
      "dtypes: datetime64[ns](1)\n",
      "memory usage: 188.0 bytes\n"
     ]
    }
   ],
   "source": [
    "#use info to show contents\n",
    "week_df.info()"
   ]
  },
  {
   "cell_type": "code",
   "execution_count": 55,
   "id": "e6dd8e6f-e807-4a63-85a1-3ee6f522c279",
   "metadata": {},
   "outputs": [
    {
     "data": {
      "text/plain": [
       "0    1\n",
       "1    2\n",
       "2    3\n",
       "3    4\n",
       "4    5\n",
       "5    6\n",
       "6    7\n",
       "Name: Dates, dtype: int32"
      ]
     },
     "execution_count": 55,
     "metadata": {},
     "output_type": "execute_result"
    }
   ],
   "source": [
    "week_df['Dates'].dt.day"
   ]
  },
  {
   "cell_type": "code",
   "execution_count": 59,
   "id": "165e8020-4162-4f4a-b24e-c81be1dbab54",
   "metadata": {},
   "outputs": [
    {
     "data": {
      "text/plain": [
       "0       Sunday\n",
       "1       Monday\n",
       "2      Tuesday\n",
       "3    Wednesday\n",
       "4     Thursday\n",
       "5       Friday\n",
       "6     Saturday\n",
       "Name: Dates, dtype: object"
      ]
     },
     "execution_count": 59,
     "metadata": {},
     "output_type": "execute_result"
    }
   ],
   "source": [
    "week_df['Dates'].dt.day_name()"
   ]
  },
  {
   "cell_type": "code",
   "execution_count": null,
   "id": "a8f07e19-fc01-4881-9c3e-057991cecdae",
   "metadata": {},
   "outputs": [],
   "source": []
  }
 ],
 "metadata": {
  "kernelspec": {
   "display_name": "Python 3 (ipykernel)",
   "language": "python",
   "name": "python3"
  },
  "language_info": {
   "codemirror_mode": {
    "name": "ipython",
    "version": 3
   },
   "file_extension": ".py",
   "mimetype": "text/x-python",
   "name": "python",
   "nbconvert_exporter": "python",
   "pygments_lexer": "ipython3",
   "version": "3.12.4"
  }
 },
 "nbformat": 4,
 "nbformat_minor": 5
}
