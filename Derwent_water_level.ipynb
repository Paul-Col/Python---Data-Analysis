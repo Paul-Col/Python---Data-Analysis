{
 "cells": [
  {
   "cell_type": "code",
   "execution_count": 66,
   "id": "35e5bb56-ebf4-4cf2-8259-d1e5dddb0383",
   "metadata": {},
   "outputs": [],
   "source": [
    "import pandas as pd"
   ]
  },
  {
   "cell_type": "code",
   "execution_count": 68,
   "id": "595bc166-acb0-43a8-b552-6a230b63841a",
   "metadata": {},
   "outputs": [
    {
     "data": {
      "text/plain": [
       "Timestamp (UTC)\n",
       "2024-10-14T15:30:00Z    0.76\n",
       "2024-10-14T15:45:00Z    0.76\n",
       "2024-10-14T16:00:00Z    0.76\n",
       "2024-10-14T16:15:00Z    0.76\n",
       "2024-10-14T16:30:00Z    0.76\n",
       "                        ... \n",
       "2024-10-19T14:00:00Z    1.23\n",
       "2024-10-19T14:15:00Z    1.23\n",
       "2024-10-19T14:30:00Z    1.23\n",
       "2024-10-19T14:45:00Z    1.22\n",
       "2024-10-19T15:00:00Z    1.22\n",
       "Name: Height (m), Length: 479, dtype: float64"
      ]
     },
     "execution_count": 68,
     "metadata": {},
     "output_type": "execute_result"
    }
   ],
   "source": [
    "url = \"https://check-for-flooding.service.gov.uk/station-csv/5178\"\n",
    "\n",
    "derwent = pd.read_csv(url,\n",
    "                     usecols=['Timestamp (UTC)','Height (m)'],\n",
    "                      index_col='Timestamp (UTC)').squeeze()\n",
    "\n",
    "\n",
    "derwent"
   ]
  },
  {
   "cell_type": "code",
   "execution_count": 79,
   "id": "6b59b2df-3922-49ce-be82-1818c1520e21",
   "metadata": {},
   "outputs": [
    {
     "data": {
      "text/plain": [
       "1.23"
      ]
     },
     "execution_count": 79,
     "metadata": {},
     "output_type": "execute_result"
    }
   ],
   "source": [
    "high = derwent.idxmax()\n",
    "derwent[high]"
   ]
  },
  {
   "cell_type": "code",
   "execution_count": 81,
   "id": "5dcd92b8-2307-4ff6-8dfe-3f3f31c5263d",
   "metadata": {},
   "outputs": [
    {
     "data": {
      "text/plain": [
       "0.76"
      ]
     },
     "execution_count": 81,
     "metadata": {},
     "output_type": "execute_result"
    }
   ],
   "source": [
    "low = derwent.idxmin()\n",
    "derwent[low]"
   ]
  },
  {
   "cell_type": "code",
   "execution_count": 85,
   "id": "aeb8013e-8092-4c32-a955-4e50f00c044c",
   "metadata": {},
   "outputs": [
    {
     "data": {
      "text/plain": [
       "0.9437"
      ]
     },
     "execution_count": 85,
     "metadata": {},
     "output_type": "execute_result"
    }
   ],
   "source": [
    "mean = derwent.mean().round(4)\n",
    "mean"
   ]
  },
  {
   "cell_type": "code",
   "execution_count": null,
   "id": "8d3f2ff2-e6c9-4e29-893f-1eee3e738995",
   "metadata": {},
   "outputs": [],
   "source": []
  }
 ],
 "metadata": {
  "kernelspec": {
   "display_name": "Python 3 (ipykernel)",
   "language": "python",
   "name": "python3"
  },
  "language_info": {
   "codemirror_mode": {
    "name": "ipython",
    "version": 3
   },
   "file_extension": ".py",
   "mimetype": "text/x-python",
   "name": "python",
   "nbconvert_exporter": "python",
   "pygments_lexer": "ipython3",
   "version": "3.12.4"
  }
 },
 "nbformat": 4,
 "nbformat_minor": 5
}
