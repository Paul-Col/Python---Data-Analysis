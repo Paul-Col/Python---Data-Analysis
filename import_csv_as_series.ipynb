{
 "cells": [
  {
   "cell_type": "code",
   "execution_count": 6,
   "id": "093f39c0-f3b6-45d7-b018-5a7fb54657bd",
   "metadata": {},
   "outputs": [],
   "source": [
    "import pandas as pd"
   ]
  },
  {
   "cell_type": "code",
   "execution_count": 22,
   "id": "21785128-7fb1-4dd4-8c3e-a3e520eafce4",
   "metadata": {},
   "outputs": [
    {
     "data": {
      "text/plain": [
       "0                     Elon Musk\n",
       "1                    Jeff Bezos\n",
       "2      Bernard Arnault & family\n",
       "3                    Bill Gates\n",
       "4                Warren Buffett\n",
       "                 ...           \n",
       "96             Vladimir Potanin\n",
       "97         Harold Hamm & family\n",
       "98                 Sun Piaoyang\n",
       "99           Luo Liguo & family\n",
       "100                   Peter Woo\n",
       "Name: Name, Length: 101, dtype: object"
      ]
     },
     "execution_count": 22,
     "metadata": {},
     "output_type": "execute_result"
    }
   ],
   "source": [
    "#read csv and squeeze coloumn into a series\n",
    "richest = pd.read_csv('TopRichestInWorld.csv', usecols=['Name']).squeeze()\n",
    "richest"
   ]
  },
  {
   "cell_type": "code",
   "execution_count": 24,
   "id": "6b202c14-20f4-4cee-95b2-b711e08dca08",
   "metadata": {},
   "outputs": [
    {
     "data": {
      "text/plain": [
       "pandas.core.series.Series"
      ]
     },
     "execution_count": 24,
     "metadata": {},
     "output_type": "execute_result"
    }
   ],
   "source": [
    "type(richest)"
   ]
  },
  {
   "cell_type": "code",
   "execution_count": 28,
   "id": "a31d95de-8370-40c9-908d-2a072c8ca401",
   "metadata": {},
   "outputs": [],
   "source": [
    "#create and export new csv\n",
    "richest.to_csv('test.csv', index=False) #set to false to avoid extra index"
   ]
  },
  {
   "cell_type": "code",
   "execution_count": 30,
   "id": "a0f9d2d7-cea3-4ac1-88ff-b36c0bb59ca7",
   "metadata": {},
   "outputs": [
    {
     "data": {
      "text/html": [
       "<div>\n",
       "<style scoped>\n",
       "    .dataframe tbody tr th:only-of-type {\n",
       "        vertical-align: middle;\n",
       "    }\n",
       "\n",
       "    .dataframe tbody tr th {\n",
       "        vertical-align: top;\n",
       "    }\n",
       "\n",
       "    .dataframe thead th {\n",
       "        text-align: right;\n",
       "    }\n",
       "</style>\n",
       "<table border=\"1\" class=\"dataframe\">\n",
       "  <thead>\n",
       "    <tr style=\"text-align: right;\">\n",
       "      <th></th>\n",
       "      <th>Name</th>\n",
       "    </tr>\n",
       "  </thead>\n",
       "  <tbody>\n",
       "    <tr>\n",
       "      <th>0</th>\n",
       "      <td>Elon Musk</td>\n",
       "    </tr>\n",
       "    <tr>\n",
       "      <th>1</th>\n",
       "      <td>Jeff Bezos</td>\n",
       "    </tr>\n",
       "    <tr>\n",
       "      <th>2</th>\n",
       "      <td>Bernard Arnault &amp; family</td>\n",
       "    </tr>\n",
       "    <tr>\n",
       "      <th>3</th>\n",
       "      <td>Bill Gates</td>\n",
       "    </tr>\n",
       "    <tr>\n",
       "      <th>4</th>\n",
       "      <td>Warren Buffett</td>\n",
       "    </tr>\n",
       "    <tr>\n",
       "      <th>...</th>\n",
       "      <td>...</td>\n",
       "    </tr>\n",
       "    <tr>\n",
       "      <th>96</th>\n",
       "      <td>Vladimir Potanin</td>\n",
       "    </tr>\n",
       "    <tr>\n",
       "      <th>97</th>\n",
       "      <td>Harold Hamm &amp; family</td>\n",
       "    </tr>\n",
       "    <tr>\n",
       "      <th>98</th>\n",
       "      <td>Sun Piaoyang</td>\n",
       "    </tr>\n",
       "    <tr>\n",
       "      <th>99</th>\n",
       "      <td>Luo Liguo &amp; family</td>\n",
       "    </tr>\n",
       "    <tr>\n",
       "      <th>100</th>\n",
       "      <td>Peter Woo</td>\n",
       "    </tr>\n",
       "  </tbody>\n",
       "</table>\n",
       "<p>101 rows × 1 columns</p>\n",
       "</div>"
      ],
      "text/plain": [
       "                         Name\n",
       "0                   Elon Musk\n",
       "1                  Jeff Bezos\n",
       "2    Bernard Arnault & family\n",
       "3                  Bill Gates\n",
       "4              Warren Buffett\n",
       "..                        ...\n",
       "96           Vladimir Potanin\n",
       "97       Harold Hamm & family\n",
       "98               Sun Piaoyang\n",
       "99         Luo Liguo & family\n",
       "100                 Peter Woo\n",
       "\n",
       "[101 rows x 1 columns]"
      ]
     },
     "execution_count": 30,
     "metadata": {},
     "output_type": "execute_result"
    }
   ],
   "source": [
    "pd.read_csv('test.csv')"
   ]
  },
  {
   "cell_type": "code",
   "execution_count": 34,
   "id": "15768e96-5e96-4d33-ac1b-8e6917fb1f43",
   "metadata": {},
   "outputs": [
    {
     "data": {
      "text/plain": [
       "0                   Elon Musk\n",
       "1                  Jeff Bezos\n",
       "2    Bernard Arnault & family\n",
       "3                  Bill Gates\n",
       "4              Warren Buffett\n",
       "5                  Larry Page\n",
       "6                 Sergey Brin\n",
       "7               Larry Ellison\n",
       "8               Steve Ballmer\n",
       "9               Mukesh Ambani\n",
       "Name: Name, dtype: object"
      ]
     },
     "execution_count": 34,
     "metadata": {},
     "output_type": "execute_result"
    }
   ],
   "source": [
    "richest.head(10) #returns x rows from head of table"
   ]
  },
  {
   "cell_type": "code",
   "execution_count": 40,
   "id": "9d1c357e-6873-4df7-ab18-5a2de0d4ce2c",
   "metadata": {},
   "outputs": [
    {
     "data": {
      "text/plain": [
       "0                    Elon Musk\n",
       "1                   Jeff Bezos\n",
       "2     Bernard Arnault & family\n",
       "3                   Bill Gates\n",
       "4               Warren Buffett\n",
       "                ...           \n",
       "86              Vladimir Lisin\n",
       "87        Fan Hongwei & family\n",
       "88              Lakshmi Mittal\n",
       "89              Andrew Forrest\n",
       "90     Jiang Rensheng & family\n",
       "Name: Name, Length: 91, dtype: object"
      ]
     },
     "execution_count": 40,
     "metadata": {},
     "output_type": "execute_result"
    }
   ],
   "source": [
    "richest.head(-10) #returns all rows from start excluding last x rows"
   ]
  },
  {
   "cell_type": "code",
   "execution_count": 44,
   "id": "8b388b7b-f317-4874-87c1-f61c47caa7a7",
   "metadata": {},
   "outputs": [
    {
     "data": {
      "text/plain": [
       "91     Savitri Jindal & family\n",
       "92                 Wang Wenyin\n",
       "93                   Li Xiting\n",
       "94              Stefan Persson\n",
       "95                 Steve Cohen\n",
       "96            Vladimir Potanin\n",
       "97        Harold Hamm & family\n",
       "98                Sun Piaoyang\n",
       "99          Luo Liguo & family\n",
       "100                  Peter Woo\n",
       "Name: Name, dtype: object"
      ]
     },
     "execution_count": 44,
     "metadata": {},
     "output_type": "execute_result"
    }
   ],
   "source": [
    "richest.tail(10) #returns last x rows"
   ]
  },
  {
   "cell_type": "code",
   "execution_count": 56,
   "id": "1d33ca28-1d47-44de-8f00-dd004d772348",
   "metadata": {},
   "outputs": [
    {
     "data": {
      "text/plain": [
       "10                     Gautam Adani & family\n",
       "11                         Michael Bloomberg\n",
       "12                 Carlos Slim Helu & family\n",
       "13     Francoise Bettencourt Meyers & family\n",
       "14                           Mark Zuckerberg\n",
       "                       ...                  \n",
       "96                          Vladimir Potanin\n",
       "97                      Harold Hamm & family\n",
       "98                              Sun Piaoyang\n",
       "99                        Luo Liguo & family\n",
       "100                                Peter Woo\n",
       "Name: Name, Length: 91, dtype: object"
      ]
     },
     "execution_count": 56,
     "metadata": {},
     "output_type": "execute_result"
    }
   ],
   "source": [
    "richest.tail(-10) # returns all but starting x rows"
   ]
  },
  {
   "cell_type": "code",
   "execution_count": 60,
   "id": "3548bda6-8017-47d5-91c8-5a8af5f5945d",
   "metadata": {},
   "outputs": [
    {
     "data": {
      "text/plain": [
       "0           Abigail Johnson\n",
       "1          Alain Wertheimer\n",
       "2              Alice Walton\n",
       "3            Amancio Ortega\n",
       "4            Andrew Forrest\n",
       "               ...         \n",
       "96           Warren Buffett\n",
       "97         William Lei Ding\n",
       "98     Yang Huiyan & family\n",
       "99             Zhang Yiming\n",
       "100          Zhong Shanshan\n",
       "Name: Name, Length: 101, dtype: object"
      ]
     },
     "execution_count": 60,
     "metadata": {},
     "output_type": "execute_result"
    }
   ],
   "source": [
    "richest.sort_values(axis=0,\n",
    "                   ascending=True,\n",
    "                inplace=True,   #rewites original table\n",
    "                   kind='quicksort',\n",
    "                   na_position='last',\n",
    "                   ignore_index=True) #use to reindex only"
   ]
  },
  {
   "cell_type": "code",
   "execution_count": 62,
   "id": "a7159cf8-d428-47a4-8fe4-0484d21eb6e0",
   "metadata": {},
   "outputs": [
    {
     "data": {
      "text/plain": [
       "100                   Peter Woo\n",
       "99           Luo Liguo & family\n",
       "98                 Sun Piaoyang\n",
       "97         Harold Hamm & family\n",
       "96             Vladimir Potanin\n",
       "                 ...           \n",
       "4                Warren Buffett\n",
       "3                    Bill Gates\n",
       "2      Bernard Arnault & family\n",
       "1                    Jeff Bezos\n",
       "0                     Elon Musk\n",
       "Name: Name, Length: 101, dtype: object"
      ]
     },
     "execution_count": 62,
     "metadata": {},
     "output_type": "execute_result"
    }
   ],
   "source": [
    "richest.sort_index (ascending=False)"
   ]
  }
 ],
 "metadata": {
  "kernelspec": {
   "display_name": "Python 3 (ipykernel)",
   "language": "python",
   "name": "python3"
  },
  "language_info": {
   "codemirror_mode": {
    "name": "ipython",
    "version": 3
   },
   "file_extension": ".py",
   "mimetype": "text/x-python",
   "name": "python",
   "nbconvert_exporter": "python",
   "pygments_lexer": "ipython3",
   "version": "3.12.4"
  }
 },
 "nbformat": 4,
 "nbformat_minor": 5
}
